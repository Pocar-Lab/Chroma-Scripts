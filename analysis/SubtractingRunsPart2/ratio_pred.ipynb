{
 "cells": [
  {
   "cell_type": "code",
   "execution_count": null,
   "metadata": {},
   "outputs": [],
   "source": [
    "import numpy as np\n",
    "import matplotlib.pyplot as plt\n",
    "import seaborn as sns"
   ]
  },
  {
   "cell_type": "code",
   "execution_count": null,
   "metadata": {},
   "outputs": [],
   "source": [
    "#import sweeps:\n",
    "\n",
    "short_8_sweep = np.fliplr(np.loadtxt('../../../Sweep-Txt-Files/matrix_8_short_n_0.2-1.2_sr_0-1.txt'))\n",
    "short_4_sweep = np.fliplr(np.loadtxt('../../../Sweep-Txt-Files/Nick_PTE4_Short_2DSweep.txt'))\n",
    "tall_4_sweep = np.fliplr(np.loadtxt('../../../Sweep-Txt-Files/matrix_4_tall_n_0.2-1.2_sr_0-1.txt'))"
   ]
  }
 ],
 "metadata": {
  "language_info": {
   "name": "python"
  }
 },
 "nbformat": 4,
 "nbformat_minor": 2
}
