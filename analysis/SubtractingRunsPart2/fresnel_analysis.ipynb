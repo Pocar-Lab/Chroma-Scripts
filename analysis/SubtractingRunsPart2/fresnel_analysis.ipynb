{
 "cells": [
  {
   "cell_type": "code",
   "execution_count": 2,
   "metadata": {},
   "outputs": [],
   "source": [
    "import numpy as np"
   ]
  },
  {
   "cell_type": "code",
   "execution_count": 3,
   "metadata": {},
   "outputs": [],
   "source": [
    "def fresnel_reflectance(n, k, angle_degrees):\n",
    "    \"\"\"\n",
    "    Calculate Fresnel reflectance coefficients for s and p polarizations.\n",
    "    \n",
    "    Parameters:\n",
    "    -----------\n",
    "    n : float\n",
    "        Real part of the refractive index of the second medium (first medium is assumed to be air with n=1)\n",
    "    k : float\n",
    "        Imaginary part of the refractive index (extinction coefficient) of the second medium\n",
    "    angle_degrees : float\n",
    "        Angle of incidence in degrees (measured from the normal)\n",
    "    \n",
    "    Returns:\n",
    "    --------\n",
    "    R_s : float\n",
    "        Reflectance for s-polarized light (perpendicular to plane of incidence)\n",
    "    R_p : float\n",
    "        Reflectance for p-polarized light (parallel to plane of incidence)\n",
    "    \"\"\"\n",
    "    # Convert angle to radians\n",
    "    theta_i = np.deg2rad(angle_degrees)\n",
    "    \n",
    "    # Complex refractive index\n",
    "    n_complex = n + 1j*k\n",
    "    \n",
    "    # Xenon has refractive index of 1.69 in our simulations\n",
    "    n1 = 1.69\n",
    "    n2 = n_complex\n",
    "    \n",
    "    # Compute cos of transmitted angle using Snell's law (can be complex)\n",
    "    cos_theta_i = np.cos(theta_i)\n",
    "    sin_theta_i = np.sin(theta_i)\n",
    "    \n",
    "    # Using Snell's law: n1*sin(theta_i) = n2*sin(theta_t)\n",
    "    sin_theta_t = (n1 / n2) * sin_theta_i\n",
    "    cos_theta_t = np.sqrt(1 - sin_theta_t**2)\n",
    "    \n",
    "    # Fresnel amplitude coefficients\n",
    "    r_s = (n1*cos_theta_i - n2*cos_theta_t) / (n1*cos_theta_i + n2*cos_theta_t)\n",
    "    r_p = (n2*cos_theta_i - n1*cos_theta_t) / (n2*cos_theta_i + n1*cos_theta_t)\n",
    "    \n",
    "    # Reflectance is the squared magnitude of the amplitude coefficients\n",
    "    R_s = np.abs(r_s)**2\n",
    "    R_p = np.abs(r_p)**2\n",
    "    \n",
    "    return R_s, R_p"
   ]
  },
  {
   "cell_type": "code",
   "execution_count": 8,
   "metadata": {},
   "outputs": [
    {
     "name": "stdout",
     "output_type": "stream",
     "text": [
      "0.5142363171548605\n",
      "0.5331311342866653\n"
     ]
    }
   ],
   "source": [
    "#short hit sipm at ~43 which means incident at 47 on reflectots\n",
    "#tall hit sipm at ~39 which means ~51 on reflectors\n",
    "ref_tall = fresnel_reflectance(0.8,1.9,51)\n",
    "ref_short = fresnel_reflectance(0.7,0.5,51)\n",
    "\n",
    "print((ref_tall[0]+ref_tall[1])/2.0)\n",
    "print((ref_short[0]+ref_short[1])/2.0)"
   ]
  }
 ],
 "metadata": {
  "kernelspec": {
   "display_name": "Python 3",
   "language": "python",
   "name": "python3"
  },
  "language_info": {
   "codemirror_mode": {
    "name": "ipython",
    "version": 3
   },
   "file_extension": ".py",
   "mimetype": "text/x-python",
   "name": "python",
   "nbconvert_exporter": "python",
   "pygments_lexer": "ipython3",
   "version": "3.12.3"
  }
 },
 "nbformat": 4,
 "nbformat_minor": 2
}
